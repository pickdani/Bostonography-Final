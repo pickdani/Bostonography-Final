{
 "cells": [
  {
   "cell_type": "markdown",
   "metadata": {},
   "source": [
    "## INSH2120 - Final Project\n",
    "\n",
    "**Group 7**\n",
    "\n",
    "**Forrest Meng, Garrett Michiels, Timothy Mitchell, Gabriel Peter, Daniel Pickett**\n",
    "<hr>\n",
    "\n",
    "## <center>The Relationship between Bars and Colleges in Boston and Alcohol-Related Crimes </center>\n",
    "\n",
    "### Introduction\n",
    "We set out to determine if there is a relationship between areas containing bars and colleges and specific alcohol related crimes such as underage liquor violations. Identifying if certain areas are more prone to these crimes could help the city of Boston understand the issue and put in plans to reduce these crimes. Our process starts by looking into criminology to understand some reasons why crimes occur when applied to our question. Then we download various datasets from [data.boston.gov](https://data.boston.gov/) including crime reports, liquor licenses, and location of colleges to use for analysis. Finally, we create various visualizations and analyze the results. In the end we found it difficult to find a correlation for our research question. It's likely that until more data is available from the city, it's unlikely that the relationship we set out to find can be proven significant.\n",
    "\n",
    "#### Outline\n",
    "1. [Background](#1)\n",
    "2. [Read and Filter Data](#2)\n",
    "3. [Spatial Joins / Aggregation](#3)\n",
    "4. [Visualizations](#4)\n",
    "5. [Analysis](#5)\n",
    "6. [Future Work](#6)\n"
   ]
  },
  {
   "cell_type": "markdown",
   "metadata": {},
   "source": [
    "<a id='1'></a>\n",
    "## 1. Background\n",
    "### Motivation\n",
    "\n",
    "“In 2019, almost 2 out of 100 adolescents ages 12 to 13 reported drinking alcohol in the past month and fewer than 1 in 100 engaged in binge drinking. Among respondents ages 16 to 17, fewer than 1 in 5 reported drinking and about 1 in 10 reported binge drinking.5 It is important to implement prevention strategies during early adolescence to prevent this escalation.” - NIAAA<sup>1</sup>\n",
    "\n",
    "Results:\n",
    "- Increased death,\n",
    "- Increased Injury\n",
    "- Increases the risk of physical and sexual assault\n",
    "- Interferes with brain development\n",
    "- Future Alcoholism\n",
    "\n",
    "1. “Underage Drinking.” National Institute on Alcohol Abuse and Alcoholism. U.S. Department of Health and Human Services. Accessed April 21, 2021. https://www.niaaa.nih.gov/publications/brochures-and-fact-sheets/underage-drinking. "
   ]
  },
  {
   "cell_type": "markdown",
   "metadata": {},
   "source": [
    "### Criminology Background\n",
    "\n",
    "<img src=\"data/activity_theory.png\" align=\"right\" alt=\"Routine Activity Theory Venn Diagram\" style=\"width:200px;\">\n",
    "\n",
    "Crime occurs when three elements converge:\n",
    "\n",
    "- A motivated offender\n",
    "- A suitable target\n",
    "- The absence of a capable guardian\n",
    "\n",
    "\n",
    "\n",
    "Cohen and Felson (1979)<sup>2</sup>\n",
    "\n",
    "2. Smith, Clifton L, and David J Brooks. “Routine Activity Theory.” Science Direct. Accessed April 21, 2021. https://www.sciencedirect.com/topics/computer-science/routine-activity-theory. "
   ]
  },
  {
   "cell_type": "markdown",
   "metadata": {},
   "source": [
    "### Routine Activity Theory For Our Research Question\n",
    "\n",
    "We will focus on two of the mentioned elements: motivated offenders and suitable targets.\n",
    "\n",
    "With regards to alcohol related crimes, we view the <b>suitable target</b> as a place where a motivated offender can purchase or consume heavy amounts of alcohol (this could be a <b>bar/restaurant/liquor store</b>).\n",
    "\n",
    "A specific group of <b>motivated offenders</b> that we can attempt to track is <b>college students</b>."
   ]
  },
  {
   "cell_type": "markdown",
   "metadata": {},
   "source": [
    "### Research Question\n",
    "\n",
    "We will identify any correlation between the number of alcohol-related crimes and the number of bars at a neighborhood level in Boston.\n",
    "\n",
    "We will work with our data to clean it and format it to be used for statistical analysis and visualization.\n",
    "- Create heat maps at neighborhood level showing both alcohol-related crime and number of bars\n",
    "- Overlay location of colleges on top\n"
   ]
  },
  {
   "cell_type": "markdown",
   "metadata": {},
   "source": [
    "<a id='2'></a>\n",
    "## 2. Read and Filter Data\n",
    "\n",
    "### Imports\n",
    "\n",
    "For this project we use the pandas, geopandas, and matplotlib modules."
   ]
  },
  {
   "cell_type": "code",
   "execution_count": 460,
   "metadata": {},
   "outputs": [],
   "source": [
    "import pandas as pd\n",
    "import geopandas as gpd\n",
    "import matplotlib.pyplot as plt"
   ]
  },
  {
   "cell_type": "markdown",
   "metadata": {},
   "source": [
    "### Crime Dataset\n",
    "\n",
    "From [data.boston.gov](https://data.boston.gov/dataset/crime-incident-reports-august-2015-to-date-source-new-system), we downloaded and read in the individual CSV for the crime incident reports from years 2015-2018. 2012-2015 is also available, but the system for the offense codes of crimes changed after this data was collected. We decided not to waste effort translating the old codes to the new codes, especially since the older data contained only about 10% of the records that the new data has. Additionally, not only were columns named differently after 2015, but the type of data collected and collection techniques also varies.\n",
    "\n",
    "Unfortunately, we are unable to use more recent data from 2019, 2020, and 2021 as was has been removed from the city of Boston website and pending review at the time of working on this project.\n",
    "\n",
    "**Boston.gov has re-added the 2019 to 2021 data which we now include in our final report.**"
   ]
  },
  {
   "cell_type": "code",
   "execution_count": 461,
   "metadata": {},
   "outputs": [
    {
     "name": "stderr",
     "output_type": "stream",
     "text": [
      "/Users/daniel/Library/Python/3.8/lib/python/site-packages/IPython/core/interactiveshell.py:3145: DtypeWarning: Columns (0) have mixed types.Specify dtype option on import or set low_memory=False.\n",
      "  has_raised = await self.run_ast_nodes(code_ast.body, cell_name,\n"
     ]
    }
   ],
   "source": [
    "crime_2015 = pd.read_csv('data/crime-incident-reports-2015.csv')\n",
    "crime_2016 = pd.read_csv('data/crime-incident-reports-2015.csv')\n",
    "crime_2017 = pd.read_csv('data/crime-incident-reports-2017.csv')\n",
    "crime_2018 = pd.read_csv('data/crime-incident-reports-2018.csv')\n",
    "crime_2019 = pd.read_csv('data/crime-incident-reports-2019.csv')\n",
    "crime_2020 = pd.read_csv('data/crime-incident-reports-2020.csv')\n",
    "crime_2021 = pd.read_csv('data/crime-incident-reports-2021.csv')"
   ]
  },
  {
   "cell_type": "markdown",
   "metadata": {},
   "source": [
    "We appended all the individual files from each year into one DataFrame, then selected the columns of interest. Namely, OFFENSE_CODE, OFFENSE_DESCRIPTION, YEAR, and Lat/Long."
   ]
  },
  {
   "cell_type": "code",
   "execution_count": 462,
   "metadata": {
    "scrolled": true
   },
   "outputs": [],
   "source": [
    "crime = pd.DataFrame()\n",
    "crime=crime.append(crime_2015, ignore_index=True)\n",
    "crime=crime.append(crime_2016, ignore_index=True)\n",
    "crime=crime.append(crime_2017, ignore_index=True)\n",
    "crime=crime.append(crime_2018, ignore_index=True)\n",
    "crime=crime.append(crime_2019, ignore_index=True)\n",
    "crime=crime.append(crime_2020, ignore_index=True)\n",
    "crime=crime.append(crime_2021, ignore_index=True)\n",
    "crime=crime[['OFFENSE_CODE', 'OFFENSE_DESCRIPTION', 'YEAR', 'Lat', 'Long']]"
   ]
  },
  {
   "cell_type": "markdown",
   "metadata": {},
   "source": [
    "### Liquor Licenses Dataset\n",
    "\n",
    "Again from [data.boston.gov](https://data.boston.gov/dataset/liquor-licenses), we downloaded and read the CSV containing info about liquor licenses in Boston. \n",
    "\n",
    "We select only the license ID, the issuing date, the type of license, the status of the license ('Active', etc.), the establishment name, the GPSX and GPSY coordinates, and the capacity."
   ]
  },
  {
   "cell_type": "code",
   "execution_count": 463,
   "metadata": {},
   "outputs": [
    {
     "data": {
      "text/html": [
       "<div>\n",
       "<style scoped>\n",
       "    .dataframe tbody tr th:only-of-type {\n",
       "        vertical-align: middle;\n",
       "    }\n",
       "\n",
       "    .dataframe tbody tr th {\n",
       "        vertical-align: top;\n",
       "    }\n",
       "\n",
       "    .dataframe thead th {\n",
       "        text-align: right;\n",
       "    }\n",
       "</style>\n",
       "<table border=\"1\" class=\"dataframe\">\n",
       "  <thead>\n",
       "    <tr style=\"text-align: right;\">\n",
       "      <th></th>\n",
       "      <th>license_num</th>\n",
       "      <th>issued</th>\n",
       "      <th>license_type</th>\n",
       "      <th>status</th>\n",
       "      <th>dba_name</th>\n",
       "      <th>gpsx</th>\n",
       "      <th>gpsy</th>\n",
       "      <th>capacity</th>\n",
       "    </tr>\n",
       "  </thead>\n",
       "  <tbody>\n",
       "    <tr>\n",
       "      <th>0</th>\n",
       "      <td>LB-418523</td>\n",
       "      <td>2020-07-30</td>\n",
       "      <td>Retail Malt Wine</td>\n",
       "      <td>Active</td>\n",
       "      <td>7-Eleven</td>\n",
       "      <td>772278.999995</td>\n",
       "      <td>2.951600e+06</td>\n",
       "      <td>0.0</td>\n",
       "    </tr>\n",
       "    <tr>\n",
       "      <th>1</th>\n",
       "      <td>LB-427987</td>\n",
       "      <td>2020-07-30</td>\n",
       "      <td>Retail Malt Wine</td>\n",
       "      <td>Active</td>\n",
       "      <td>The Daily Market, LLC</td>\n",
       "      <td>776838.376864</td>\n",
       "      <td>2.939016e+06</td>\n",
       "      <td>0.0</td>\n",
       "    </tr>\n",
       "    <tr>\n",
       "      <th>2</th>\n",
       "      <td>LB-423824</td>\n",
       "      <td>2020-05-19</td>\n",
       "      <td>Retail Malt Wine</td>\n",
       "      <td>Active</td>\n",
       "      <td>Verc Allston Gulf</td>\n",
       "      <td>756044.793953</td>\n",
       "      <td>2.957524e+06</td>\n",
       "      <td>0.0</td>\n",
       "    </tr>\n",
       "    <tr>\n",
       "      <th>3</th>\n",
       "      <td>LB-410009</td>\n",
       "      <td>2020-03-04</td>\n",
       "      <td>CV7 All Alc. Airp.</td>\n",
       "      <td>Active</td>\n",
       "      <td>Wahlburgers</td>\n",
       "      <td>0.000000</td>\n",
       "      <td>0.000000e+00</td>\n",
       "      <td>100.0</td>\n",
       "    </tr>\n",
       "    <tr>\n",
       "      <th>4</th>\n",
       "      <td>LB-423834</td>\n",
       "      <td>2020-02-20</td>\n",
       "      <td>BYOB Bring Your Own Bottle</td>\n",
       "      <td>Active</td>\n",
       "      <td>Food For Thought Test Kitchen</td>\n",
       "      <td>786350.973004</td>\n",
       "      <td>2.964777e+06</td>\n",
       "      <td>40.0</td>\n",
       "    </tr>\n",
       "  </tbody>\n",
       "</table>\n",
       "</div>"
      ],
      "text/plain": [
       "  license_num      issued                license_type  status  \\\n",
       "0   LB-418523  2020-07-30            Retail Malt Wine  Active   \n",
       "1   LB-427987  2020-07-30            Retail Malt Wine  Active   \n",
       "2   LB-423824  2020-05-19            Retail Malt Wine  Active   \n",
       "3   LB-410009  2020-03-04          CV7 All Alc. Airp.  Active   \n",
       "4   LB-423834  2020-02-20  BYOB Bring Your Own Bottle  Active   \n",
       "\n",
       "                        dba_name           gpsx          gpsy  capacity  \n",
       "0                       7-Eleven  772278.999995  2.951600e+06       0.0  \n",
       "1          The Daily Market, LLC  776838.376864  2.939016e+06       0.0  \n",
       "2              Verc Allston Gulf  756044.793953  2.957524e+06       0.0  \n",
       "3                    Wahlburgers       0.000000  0.000000e+00     100.0  \n",
       "4  Food For Thought Test Kitchen  786350.973004  2.964777e+06      40.0  "
      ]
     },
     "execution_count": 463,
     "metadata": {},
     "output_type": "execute_result"
    }
   ],
   "source": [
    "alc = pd.read_csv('data/blb_section_12_alcohol.csv')\n",
    "alc=alc[['license_num', 'issued', 'license_type', 'status', 'dba_name', 'gpsx', 'gpsy', 'capacity']]\n",
    "alc.head()"
   ]
  },
  {
   "cell_type": "markdown",
   "metadata": {},
   "source": [
    "### Colleges Dataset\n",
    "\n",
    "We read in the colleges from the CSV, and filter only the name of the college as well as the Lat/Long and the number of students.\n",
    "\n",
    "The number of students columns seems fairly unreliable for us to work with. A significant percentage of this column contains the value 0 even for significantly large universities. Additionally after researching student populations of 2015 which is the year our other data sets begin, the numbers are less, meaning this data is likely outdated. We can however still reliably use the coordinates."
   ]
  },
  {
   "cell_type": "code",
   "execution_count": 464,
   "metadata": {},
   "outputs": [
    {
     "data": {
      "text/html": [
       "<div>\n",
       "<style scoped>\n",
       "    .dataframe tbody tr th:only-of-type {\n",
       "        vertical-align: middle;\n",
       "    }\n",
       "\n",
       "    .dataframe tbody tr th {\n",
       "        vertical-align: top;\n",
       "    }\n",
       "\n",
       "    .dataframe thead th {\n",
       "        text-align: right;\n",
       "    }\n",
       "</style>\n",
       "<table border=\"1\" class=\"dataframe\">\n",
       "  <thead>\n",
       "    <tr style=\"text-align: right;\">\n",
       "      <th></th>\n",
       "      <th>Name</th>\n",
       "      <th>Latitude</th>\n",
       "      <th>Longitude</th>\n",
       "      <th>NumStudent</th>\n",
       "    </tr>\n",
       "  </thead>\n",
       "  <tbody>\n",
       "    <tr>\n",
       "      <th>0</th>\n",
       "      <td>Massachusetts General Hospital Dietetic Intern...</td>\n",
       "      <td>42.362591</td>\n",
       "      <td>-71.070141</td>\n",
       "      <td>10</td>\n",
       "    </tr>\n",
       "    <tr>\n",
       "      <th>1</th>\n",
       "      <td>Suffolk University</td>\n",
       "      <td>42.358905</td>\n",
       "      <td>-71.061948</td>\n",
       "      <td>9148</td>\n",
       "    </tr>\n",
       "    <tr>\n",
       "      <th>2</th>\n",
       "      <td>Benjamin Franklin Institute of Technology</td>\n",
       "      <td>42.346103</td>\n",
       "      <td>-71.070186</td>\n",
       "      <td>594</td>\n",
       "    </tr>\n",
       "    <tr>\n",
       "      <th>3</th>\n",
       "      <td>Bunker Hill Community College</td>\n",
       "      <td>42.375117</td>\n",
       "      <td>-71.069572</td>\n",
       "      <td>11009</td>\n",
       "    </tr>\n",
       "    <tr>\n",
       "      <th>4</th>\n",
       "      <td>MGH Institute of Health Professions</td>\n",
       "      <td>42.374917</td>\n",
       "      <td>-71.053972</td>\n",
       "      <td>900</td>\n",
       "    </tr>\n",
       "  </tbody>\n",
       "</table>\n",
       "</div>"
      ],
      "text/plain": [
       "                                                Name   Latitude  Longitude  \\\n",
       "0  Massachusetts General Hospital Dietetic Intern...  42.362591 -71.070141   \n",
       "1                                 Suffolk University  42.358905 -71.061948   \n",
       "2          Benjamin Franklin Institute of Technology  42.346103 -71.070186   \n",
       "3                      Bunker Hill Community College  42.375117 -71.069572   \n",
       "4                MGH Institute of Health Professions  42.374917 -71.053972   \n",
       "\n",
       "   NumStudent  \n",
       "0          10  \n",
       "1        9148  \n",
       "2         594  \n",
       "3       11009  \n",
       "4         900  "
      ]
     },
     "execution_count": 464,
     "metadata": {},
     "output_type": "execute_result"
    }
   ],
   "source": [
    "colleges = pd.read_csv('data/Colleges_and_Universities.csv')\n",
    "colleges = colleges[['Name', 'Latitude', 'Longitude', 'NumStudent']]\n",
    "colleges.head()"
   ]
  },
  {
   "cell_type": "markdown",
   "metadata": {},
   "source": [
    "### Neighborhood GeoJSON File\n",
    "\n",
    "We imported the geoJSON file for Boston neighborhoods that we downloaded from data.boston.gov. We also cast the Neighborhood_ID field from and Object to an int.\n",
    "\n",
    "We chose to use neighborhood-level analysis as opposed to tract level because after observing our filtered data (seen below), we realized that the amount of either bars or crimes for many census tracts was too low. We wanted to show more significant variation between larger areas of Boston."
   ]
  },
  {
   "cell_type": "code",
   "execution_count": 465,
   "metadata": {},
   "outputs": [
    {
     "data": {
      "text/html": [
       "<div>\n",
       "<style scoped>\n",
       "    .dataframe tbody tr th:only-of-type {\n",
       "        vertical-align: middle;\n",
       "    }\n",
       "\n",
       "    .dataframe tbody tr th {\n",
       "        vertical-align: top;\n",
       "    }\n",
       "\n",
       "    .dataframe thead th {\n",
       "        text-align: right;\n",
       "    }\n",
       "</style>\n",
       "<table border=\"1\" class=\"dataframe\">\n",
       "  <thead>\n",
       "    <tr style=\"text-align: right;\">\n",
       "      <th></th>\n",
       "      <th>OBJECTID</th>\n",
       "      <th>Name</th>\n",
       "      <th>Acres</th>\n",
       "      <th>Neighborhood_ID</th>\n",
       "      <th>SqMiles</th>\n",
       "      <th>ShapeSTArea</th>\n",
       "      <th>ShapeSTLength</th>\n",
       "      <th>geometry</th>\n",
       "    </tr>\n",
       "  </thead>\n",
       "  <tbody>\n",
       "    <tr>\n",
       "      <th>0</th>\n",
       "      <td>27</td>\n",
       "      <td>Roslindale</td>\n",
       "      <td>1605.568237</td>\n",
       "      <td>15</td>\n",
       "      <td>2.51</td>\n",
       "      <td>6.993827e+07</td>\n",
       "      <td>53563.912597</td>\n",
       "      <td>MULTIPOLYGON (((-71.12593 42.27201, -71.12611 ...</td>\n",
       "    </tr>\n",
       "    <tr>\n",
       "      <th>1</th>\n",
       "      <td>28</td>\n",
       "      <td>Jamaica Plain</td>\n",
       "      <td>2519.245394</td>\n",
       "      <td>11</td>\n",
       "      <td>3.94</td>\n",
       "      <td>1.097379e+08</td>\n",
       "      <td>56349.937161</td>\n",
       "      <td>POLYGON ((-71.10499 42.32610, -71.10503 42.326...</td>\n",
       "    </tr>\n",
       "    <tr>\n",
       "      <th>2</th>\n",
       "      <td>29</td>\n",
       "      <td>Mission Hill</td>\n",
       "      <td>350.853564</td>\n",
       "      <td>13</td>\n",
       "      <td>0.55</td>\n",
       "      <td>1.528312e+07</td>\n",
       "      <td>17918.724113</td>\n",
       "      <td>POLYGON ((-71.09043 42.33577, -71.09050 42.335...</td>\n",
       "    </tr>\n",
       "    <tr>\n",
       "      <th>3</th>\n",
       "      <td>30</td>\n",
       "      <td>Longwood</td>\n",
       "      <td>188.611947</td>\n",
       "      <td>28</td>\n",
       "      <td>0.29</td>\n",
       "      <td>8.215904e+06</td>\n",
       "      <td>11908.757148</td>\n",
       "      <td>POLYGON ((-71.09811 42.33673, -71.09832 42.337...</td>\n",
       "    </tr>\n",
       "    <tr>\n",
       "      <th>4</th>\n",
       "      <td>31</td>\n",
       "      <td>Bay Village</td>\n",
       "      <td>26.539839</td>\n",
       "      <td>33</td>\n",
       "      <td>0.04</td>\n",
       "      <td>1.156071e+06</td>\n",
       "      <td>4650.635493</td>\n",
       "      <td>POLYGON ((-71.06663 42.34878, -71.06663 42.348...</td>\n",
       "    </tr>\n",
       "  </tbody>\n",
       "</table>\n",
       "</div>"
      ],
      "text/plain": [
       "   OBJECTID           Name        Acres  Neighborhood_ID  SqMiles  \\\n",
       "0        27     Roslindale  1605.568237               15     2.51   \n",
       "1        28  Jamaica Plain  2519.245394               11     3.94   \n",
       "2        29   Mission Hill   350.853564               13     0.55   \n",
       "3        30       Longwood   188.611947               28     0.29   \n",
       "4        31    Bay Village    26.539839               33     0.04   \n",
       "\n",
       "    ShapeSTArea  ShapeSTLength  \\\n",
       "0  6.993827e+07   53563.912597   \n",
       "1  1.097379e+08   56349.937161   \n",
       "2  1.528312e+07   17918.724113   \n",
       "3  8.215904e+06   11908.757148   \n",
       "4  1.156071e+06    4650.635493   \n",
       "\n",
       "                                            geometry  \n",
       "0  MULTIPOLYGON (((-71.12593 42.27201, -71.12611 ...  \n",
       "1  POLYGON ((-71.10499 42.32610, -71.10503 42.326...  \n",
       "2  POLYGON ((-71.09043 42.33577, -71.09050 42.335...  \n",
       "3  POLYGON ((-71.09811 42.33673, -71.09832 42.337...  \n",
       "4  POLYGON ((-71.06663 42.34878, -71.06663 42.348...  "
      ]
     },
     "execution_count": 465,
     "metadata": {},
     "output_type": "execute_result"
    }
   ],
   "source": [
    "nb = gpd.read_file(\"data/Boston_Neighborhoods.geojson\")\n",
    "nb = nb.astype({'Neighborhood_ID': 'int64'})\n",
    "nb.head()"
   ]
  },
  {
   "cell_type": "markdown",
   "metadata": {},
   "source": [
    "### Filtering the crime data\n",
    "\n",
    "We only want to look at crimes that are explicitly related to alcohol. The offense codes that we used were 2201, 2101, and 2646, which are respectively 'Liquor - Involving Minors', 'Operating Under the Influence of Alcohol', and 'Liquor - Drinking in Public'.\n",
    "\n",
    "We them removed any rows that had a null value for either Lat or Long."
   ]
  },
  {
   "cell_type": "code",
   "execution_count": 466,
   "metadata": {},
   "outputs": [
    {
     "data": {
      "text/html": [
       "<div>\n",
       "<style scoped>\n",
       "    .dataframe tbody tr th:only-of-type {\n",
       "        vertical-align: middle;\n",
       "    }\n",
       "\n",
       "    .dataframe tbody tr th {\n",
       "        vertical-align: top;\n",
       "    }\n",
       "\n",
       "    .dataframe thead th {\n",
       "        text-align: right;\n",
       "    }\n",
       "</style>\n",
       "<table border=\"1\" class=\"dataframe\">\n",
       "  <thead>\n",
       "    <tr style=\"text-align: right;\">\n",
       "      <th></th>\n",
       "      <th>OFFENSE_CODE</th>\n",
       "      <th>OFFENSE_DESCRIPTION</th>\n",
       "      <th>YEAR</th>\n",
       "      <th>Lat</th>\n",
       "      <th>Long</th>\n",
       "    </tr>\n",
       "  </thead>\n",
       "  <tbody>\n",
       "    <tr>\n",
       "      <th>1066</th>\n",
       "      <td>2101</td>\n",
       "      <td>OPERATING UNDER THE INFLUENCE ALCOHOL</td>\n",
       "      <td>2015</td>\n",
       "      <td>42.282319</td>\n",
       "      <td>-71.099614</td>\n",
       "    </tr>\n",
       "    <tr>\n",
       "      <th>1771</th>\n",
       "      <td>2101</td>\n",
       "      <td>OPERATING UNDER THE INFLUENCE ALCOHOL</td>\n",
       "      <td>2015</td>\n",
       "      <td>42.300270</td>\n",
       "      <td>-71.049671</td>\n",
       "    </tr>\n",
       "    <tr>\n",
       "      <th>2059</th>\n",
       "      <td>2101</td>\n",
       "      <td>OPERATING UNDER THE INFLUENCE ALCOHOL</td>\n",
       "      <td>2015</td>\n",
       "      <td>42.301415</td>\n",
       "      <td>-71.062878</td>\n",
       "    </tr>\n",
       "    <tr>\n",
       "      <th>2075</th>\n",
       "      <td>2101</td>\n",
       "      <td>OPERATING UNDER THE INFLUENCE ALCOHOL</td>\n",
       "      <td>2015</td>\n",
       "      <td>42.385047</td>\n",
       "      <td>-71.013741</td>\n",
       "    </tr>\n",
       "    <tr>\n",
       "      <th>2091</th>\n",
       "      <td>2101</td>\n",
       "      <td>OPERATING UNDER THE INFLUENCE ALCOHOL</td>\n",
       "      <td>2015</td>\n",
       "      <td>42.374686</td>\n",
       "      <td>-71.038931</td>\n",
       "    </tr>\n",
       "  </tbody>\n",
       "</table>\n",
       "</div>"
      ],
      "text/plain": [
       "      OFFENSE_CODE                    OFFENSE_DESCRIPTION  YEAR        Lat  \\\n",
       "1066          2101  OPERATING UNDER THE INFLUENCE ALCOHOL  2015  42.282319   \n",
       "1771          2101  OPERATING UNDER THE INFLUENCE ALCOHOL  2015  42.300270   \n",
       "2059          2101  OPERATING UNDER THE INFLUENCE ALCOHOL  2015  42.301415   \n",
       "2075          2101  OPERATING UNDER THE INFLUENCE ALCOHOL  2015  42.385047   \n",
       "2091          2101  OPERATING UNDER THE INFLUENCE ALCOHOL  2015  42.374686   \n",
       "\n",
       "           Long  \n",
       "1066 -71.099614  \n",
       "1771 -71.049671  \n",
       "2059 -71.062878  \n",
       "2075 -71.013741  \n",
       "2091 -71.038931  "
      ]
     },
     "execution_count": 466,
     "metadata": {},
     "output_type": "execute_result"
    }
   ],
   "source": [
    "off_codes = [2201, 2101, 2646]\n",
    "crime = crime.loc[crime['OFFENSE_CODE'].isin(off_codes)]\n",
    "crime = crime[crime[['Lat', 'Long']].notnull().all(1)]\n",
    "crime.head()"
   ]
  },
  {
   "cell_type": "markdown",
   "metadata": {},
   "source": [
    "### Filtering liquor licenses data\n",
    "\n",
    "We wanted to focus specifically on bars or similar establishments where patrons would engage in drinking at the establishment as opposed to just purchasing the alcohol for later use. There are many types of liquor licenses, but we found that in order to remove places such as gas stations or liquor stores and only focus on sit-down restaurants and bars, we could efficiently select only those rows where the license type contained the string 'All Alc.'\n",
    "\n",
    "We then remove any rows that had a null value for license year."
   ]
  },
  {
   "cell_type": "code",
   "execution_count": 467,
   "metadata": {},
   "outputs": [
    {
     "data": {
      "text/html": [
       "<div>\n",
       "<style scoped>\n",
       "    .dataframe tbody tr th:only-of-type {\n",
       "        vertical-align: middle;\n",
       "    }\n",
       "\n",
       "    .dataframe tbody tr th {\n",
       "        vertical-align: top;\n",
       "    }\n",
       "\n",
       "    .dataframe thead th {\n",
       "        text-align: right;\n",
       "    }\n",
       "</style>\n",
       "<table border=\"1\" class=\"dataframe\">\n",
       "  <thead>\n",
       "    <tr style=\"text-align: right;\">\n",
       "      <th></th>\n",
       "      <th>license_num</th>\n",
       "      <th>issued</th>\n",
       "      <th>license_type</th>\n",
       "      <th>status</th>\n",
       "      <th>dba_name</th>\n",
       "      <th>gpsx</th>\n",
       "      <th>gpsy</th>\n",
       "      <th>capacity</th>\n",
       "    </tr>\n",
       "  </thead>\n",
       "  <tbody>\n",
       "    <tr>\n",
       "      <th>3</th>\n",
       "      <td>LB-410009</td>\n",
       "      <td>2020-03-04</td>\n",
       "      <td>CV7 All Alc. Airp.</td>\n",
       "      <td>Active</td>\n",
       "      <td>Wahlburgers</td>\n",
       "      <td>0.000000</td>\n",
       "      <td>0.000000e+00</td>\n",
       "      <td>100.0</td>\n",
       "    </tr>\n",
       "    <tr>\n",
       "      <th>6</th>\n",
       "      <td>LB-414876</td>\n",
       "      <td>2020-02-11</td>\n",
       "      <td>CV7 All Alc. Airp.</td>\n",
       "      <td>Active</td>\n",
       "      <td>B Good Burger</td>\n",
       "      <td>785396.803968</td>\n",
       "      <td>2.958230e+06</td>\n",
       "      <td>32.0</td>\n",
       "    </tr>\n",
       "    <tr>\n",
       "      <th>8</th>\n",
       "      <td>LB-419273</td>\n",
       "      <td>2020-01-07</td>\n",
       "      <td>CV7 All Alc.</td>\n",
       "      <td>Active</td>\n",
       "      <td>KJ's</td>\n",
       "      <td>777349.961472</td>\n",
       "      <td>2.932091e+06</td>\n",
       "      <td>10000.0</td>\n",
       "    </tr>\n",
       "    <tr>\n",
       "      <th>9</th>\n",
       "      <td>LB-408105</td>\n",
       "      <td>2019-12-19</td>\n",
       "      <td>CV7 All Alc. Airp.</td>\n",
       "      <td>Active</td>\n",
       "      <td>Mija Cantina</td>\n",
       "      <td>0.000000</td>\n",
       "      <td>0.000000e+00</td>\n",
       "      <td>125.0</td>\n",
       "    </tr>\n",
       "    <tr>\n",
       "      <th>10</th>\n",
       "      <td>LB-400460</td>\n",
       "      <td>2019-11-27</td>\n",
       "      <td>CV7 All Alc. Airp.</td>\n",
       "      <td>Active</td>\n",
       "      <td>Santarpio's Pizza</td>\n",
       "      <td>0.000000</td>\n",
       "      <td>0.000000e+00</td>\n",
       "      <td>68.0</td>\n",
       "    </tr>\n",
       "  </tbody>\n",
       "</table>\n",
       "</div>"
      ],
      "text/plain": [
       "   license_num      issued        license_type  status           dba_name  \\\n",
       "3    LB-410009  2020-03-04  CV7 All Alc. Airp.  Active        Wahlburgers   \n",
       "6    LB-414876  2020-02-11  CV7 All Alc. Airp.  Active      B Good Burger   \n",
       "8    LB-419273  2020-01-07        CV7 All Alc.  Active               KJ's   \n",
       "9    LB-408105  2019-12-19  CV7 All Alc. Airp.  Active       Mija Cantina   \n",
       "10   LB-400460  2019-11-27  CV7 All Alc. Airp.  Active  Santarpio's Pizza   \n",
       "\n",
       "             gpsx          gpsy  capacity  \n",
       "3        0.000000  0.000000e+00     100.0  \n",
       "6   785396.803968  2.958230e+06      32.0  \n",
       "8   777349.961472  2.932091e+06   10000.0  \n",
       "9        0.000000  0.000000e+00     125.0  \n",
       "10       0.000000  0.000000e+00      68.0  "
      ]
     },
     "execution_count": 467,
     "metadata": {},
     "output_type": "execute_result"
    }
   ],
   "source": [
    "alc = alc.loc[alc['license_type'].str.contains('All Alc.')]\n",
    "alc = alc.loc[alc['status'].str.contains('Active')]\n",
    "alc = alc[alc[['issued', 'license_type']].notnull().all(1)]\n",
    "alc.head()"
   ]
  },
  {
   "cell_type": "markdown",
   "metadata": {},
   "source": [
    "The licenses data starts with 1434 rows. After filtering only 'All Alc.' licenses there are 943 rows. After removing inactive and licenses with null issue data and license types there are 939 rows. We did filter a large amount but are still left with a fairly large number of bars/restaurants/stores for our analysis."
   ]
  },
  {
   "cell_type": "markdown",
   "metadata": {},
   "source": [
    "<a id='3'></a>\n",
    "## 3. Spatial Joins / Aggregation\n",
    "\n",
    "### Spatial Joins\n",
    "\n",
    "The next four code cells are dedicated to converting the Lat/Long columns from each dataset into a Neighborhood_ID that will be used for aggregation and mapping."
   ]
  },
  {
   "cell_type": "code",
   "execution_count": 468,
   "metadata": {},
   "outputs": [],
   "source": [
    "crime_gdf = gpd.GeoDataFrame(crime, geometry=gpd.points_from_xy(crime.Long, crime.Lat))\n",
    "crime_gdf = crime_gdf.set_crs(\"EPSG:4326\")\n",
    "crime_gdf = gpd.sjoin(crime_gdf, nb[['Neighborhood_ID', 'Name', 'geometry']], how='left')\n",
    "crime = pd.DataFrame(crime_gdf.drop(columns=['geometry', 'index_right']))\n",
    "crime = crime[crime['Neighborhood_ID'].notna()]\n",
    "crime = crime.astype({'Neighborhood_ID': 'int64'})"
   ]
  },
  {
   "cell_type": "code",
   "execution_count": 469,
   "metadata": {},
   "outputs": [],
   "source": [
    "college_gdf = gpd.GeoDataFrame(colleges, geometry=gpd.points_from_xy(colleges.Longitude, colleges.Latitude))\n",
    "college_gdf = college_gdf.set_crs(\"EPSG:4326\")\n",
    "college_gdf = gpd.sjoin(college_gdf, nb[['Neighborhood_ID', 'Name', 'geometry']], how='left')\n",
    "colleges = pd.DataFrame(college_gdf.drop(columns=['geometry', 'index_right']))\n",
    "colleges = colleges[colleges[['Neighborhood_ID','NumStudent']].notnull().all(1)]\n",
    "colleges = colleges.astype({'Neighborhood_ID': 'int64'})\n",
    "colleges = colleges[colleges.Neighborhood_ID != 28]"
   ]
  },
  {
   "cell_type": "markdown",
   "metadata": {},
   "source": [
    "#### Note on Liquor Licenses Dataset\n",
    "\n",
    "The coords for the liquor dataset are in SPC form, and must be converted to Lat/Long. This was done using [an online tool](https://geodesy.noaa.gov/NCAT/). Instead of having null values, the initial coords were set to 0. When converted to Lat/Long, the value was under 35 (nowhere near Boston). We filtered out any rows with Lat/Long under 35."
   ]
  },
  {
   "cell_type": "code",
   "execution_count": 472,
   "metadata": {},
   "outputs": [],
   "source": [
    "alc_latlong = pd.read_csv('data/alc_coords.csv')\n",
    "alc_latlong = alc_latlong.rename(columns={\"ID\":\"license_num\"})\n",
    "alc_latlong\n",
    "alc = pd.merge(alc, alc_latlong, on=\"license_num\")\n",
    "alc=alc[['license_type', 'license_num', 'status', 'dba_name', 'srcLat', 'srcLon']]\n",
    "alc = alc[alc[['srcLat', 'srcLon']].notnull().all(1)]\n",
    "alc = alc.loc[alc['srcLat'] > 35.0]"
   ]
  },
  {
   "cell_type": "code",
   "execution_count": 473,
   "metadata": {},
   "outputs": [],
   "source": [
    "alc_gdf =gpd.GeoDataFrame(alc, geometry=gpd.points_from_xy(alc.srcLon, alc.srcLat))\n",
    "alc_gdf = alc_gdf.set_crs(\"EPSG:4326\")\n",
    "alc_gdf = gpd.sjoin(alc_gdf, nb[['Neighborhood_ID', 'Name', 'geometry']], how='left')\n",
    "alc = pd.DataFrame(alc_gdf.drop(columns=['geometry', 'index_right']))\n",
    "alc = alc[alc[['Neighborhood_ID']].notnull().all(1)]\n",
    "alc = alc.astype({'Neighborhood_ID': 'int64'})"
   ]
  },
  {
   "cell_type": "markdown",
   "metadata": {},
   "source": [
    "We can see after applying this conversion to the coordinates and applying the spatial join, we have a neighborhood id for each of our datasets."
   ]
  },
  {
   "cell_type": "code",
   "execution_count": 474,
   "metadata": {},
   "outputs": [
    {
     "data": {
      "text/html": [
       "<div>\n",
       "<style scoped>\n",
       "    .dataframe tbody tr th:only-of-type {\n",
       "        vertical-align: middle;\n",
       "    }\n",
       "\n",
       "    .dataframe tbody tr th {\n",
       "        vertical-align: top;\n",
       "    }\n",
       "\n",
       "    .dataframe thead th {\n",
       "        text-align: right;\n",
       "    }\n",
       "</style>\n",
       "<table border=\"1\" class=\"dataframe\">\n",
       "  <thead>\n",
       "    <tr style=\"text-align: right;\">\n",
       "      <th></th>\n",
       "      <th>OFFENSE_CODE</th>\n",
       "      <th>OFFENSE_DESCRIPTION</th>\n",
       "      <th>YEAR</th>\n",
       "      <th>Lat</th>\n",
       "      <th>Long</th>\n",
       "      <th>Neighborhood_ID</th>\n",
       "      <th>Name</th>\n",
       "    </tr>\n",
       "  </thead>\n",
       "  <tbody>\n",
       "    <tr>\n",
       "      <th>1066</th>\n",
       "      <td>2101</td>\n",
       "      <td>OPERATING UNDER THE INFLUENCE ALCOHOL</td>\n",
       "      <td>2015</td>\n",
       "      <td>42.282319</td>\n",
       "      <td>-71.099614</td>\n",
       "      <td>12</td>\n",
       "      <td>Mattapan</td>\n",
       "    </tr>\n",
       "    <tr>\n",
       "      <th>1771</th>\n",
       "      <td>2101</td>\n",
       "      <td>OPERATING UNDER THE INFLUENCE ALCOHOL</td>\n",
       "      <td>2015</td>\n",
       "      <td>42.300270</td>\n",
       "      <td>-71.049671</td>\n",
       "      <td>6</td>\n",
       "      <td>Dorchester</td>\n",
       "    </tr>\n",
       "    <tr>\n",
       "      <th>2059</th>\n",
       "      <td>2101</td>\n",
       "      <td>OPERATING UNDER THE INFLUENCE ALCOHOL</td>\n",
       "      <td>2015</td>\n",
       "      <td>42.301415</td>\n",
       "      <td>-71.062878</td>\n",
       "      <td>6</td>\n",
       "      <td>Dorchester</td>\n",
       "    </tr>\n",
       "    <tr>\n",
       "      <th>2075</th>\n",
       "      <td>2101</td>\n",
       "      <td>OPERATING UNDER THE INFLUENCE ALCOHOL</td>\n",
       "      <td>2015</td>\n",
       "      <td>42.385047</td>\n",
       "      <td>-71.013741</td>\n",
       "      <td>8</td>\n",
       "      <td>East Boston</td>\n",
       "    </tr>\n",
       "    <tr>\n",
       "      <th>2091</th>\n",
       "      <td>2101</td>\n",
       "      <td>OPERATING UNDER THE INFLUENCE ALCOHOL</td>\n",
       "      <td>2015</td>\n",
       "      <td>42.374686</td>\n",
       "      <td>-71.038931</td>\n",
       "      <td>8</td>\n",
       "      <td>East Boston</td>\n",
       "    </tr>\n",
       "  </tbody>\n",
       "</table>\n",
       "</div>"
      ],
      "text/plain": [
       "      OFFENSE_CODE                    OFFENSE_DESCRIPTION  YEAR        Lat  \\\n",
       "1066          2101  OPERATING UNDER THE INFLUENCE ALCOHOL  2015  42.282319   \n",
       "1771          2101  OPERATING UNDER THE INFLUENCE ALCOHOL  2015  42.300270   \n",
       "2059          2101  OPERATING UNDER THE INFLUENCE ALCOHOL  2015  42.301415   \n",
       "2075          2101  OPERATING UNDER THE INFLUENCE ALCOHOL  2015  42.385047   \n",
       "2091          2101  OPERATING UNDER THE INFLUENCE ALCOHOL  2015  42.374686   \n",
       "\n",
       "           Long  Neighborhood_ID         Name  \n",
       "1066 -71.099614               12     Mattapan  \n",
       "1771 -71.049671                6   Dorchester  \n",
       "2059 -71.062878                6   Dorchester  \n",
       "2075 -71.013741                8  East Boston  \n",
       "2091 -71.038931                8  East Boston  "
      ]
     },
     "execution_count": 474,
     "metadata": {},
     "output_type": "execute_result"
    }
   ],
   "source": [
    "crime.head()"
   ]
  },
  {
   "cell_type": "code",
   "execution_count": 475,
   "metadata": {},
   "outputs": [
    {
     "data": {
      "text/html": [
       "<div>\n",
       "<style scoped>\n",
       "    .dataframe tbody tr th:only-of-type {\n",
       "        vertical-align: middle;\n",
       "    }\n",
       "\n",
       "    .dataframe tbody tr th {\n",
       "        vertical-align: top;\n",
       "    }\n",
       "\n",
       "    .dataframe thead th {\n",
       "        text-align: right;\n",
       "    }\n",
       "</style>\n",
       "<table border=\"1\" class=\"dataframe\">\n",
       "  <thead>\n",
       "    <tr style=\"text-align: right;\">\n",
       "      <th></th>\n",
       "      <th>license_type</th>\n",
       "      <th>license_num</th>\n",
       "      <th>status</th>\n",
       "      <th>dba_name</th>\n",
       "      <th>srcLat</th>\n",
       "      <th>srcLon</th>\n",
       "      <th>Neighborhood_ID</th>\n",
       "      <th>Name</th>\n",
       "    </tr>\n",
       "  </thead>\n",
       "  <tbody>\n",
       "    <tr>\n",
       "      <th>1</th>\n",
       "      <td>CV7 All Alc. Airp.</td>\n",
       "      <td>LB-414876</td>\n",
       "      <td>Active</td>\n",
       "      <td>B Good Burger</td>\n",
       "      <td>42.364540</td>\n",
       "      <td>-71.021817</td>\n",
       "      <td>8</td>\n",
       "      <td>East Boston</td>\n",
       "    </tr>\n",
       "    <tr>\n",
       "      <th>2</th>\n",
       "      <td>CV7 All Alc.</td>\n",
       "      <td>LB-419273</td>\n",
       "      <td>Active</td>\n",
       "      <td>KJ's</td>\n",
       "      <td>42.292934</td>\n",
       "      <td>-71.052100</td>\n",
       "      <td>6</td>\n",
       "      <td>Dorchester</td>\n",
       "    </tr>\n",
       "    <tr>\n",
       "      <th>6</th>\n",
       "      <td>CV7 All Alc. Restrict.</td>\n",
       "      <td>LB-374985</td>\n",
       "      <td>Active</td>\n",
       "      <td>Bucktown Chicken &amp; Fish</td>\n",
       "      <td>42.332230</td>\n",
       "      <td>-71.099860</td>\n",
       "      <td>13</td>\n",
       "      <td>Mission Hill</td>\n",
       "    </tr>\n",
       "    <tr>\n",
       "      <th>7</th>\n",
       "      <td>CV7 All Alc. Restrict.</td>\n",
       "      <td>LB-375393</td>\n",
       "      <td>Active</td>\n",
       "      <td>Totto Ramen</td>\n",
       "      <td>42.325376</td>\n",
       "      <td>-71.062824</td>\n",
       "      <td>6</td>\n",
       "      <td>Dorchester</td>\n",
       "    </tr>\n",
       "    <tr>\n",
       "      <th>10</th>\n",
       "      <td>CV7 All Alc. Restrict.</td>\n",
       "      <td>LB-400468</td>\n",
       "      <td>Active</td>\n",
       "      <td>Mariel</td>\n",
       "      <td>42.357508</td>\n",
       "      <td>-71.055848</td>\n",
       "      <td>7</td>\n",
       "      <td>Downtown</td>\n",
       "    </tr>\n",
       "  </tbody>\n",
       "</table>\n",
       "</div>"
      ],
      "text/plain": [
       "              license_type license_num  status                 dba_name  \\\n",
       "1       CV7 All Alc. Airp.   LB-414876  Active            B Good Burger   \n",
       "2             CV7 All Alc.   LB-419273  Active                     KJ's   \n",
       "6   CV7 All Alc. Restrict.   LB-374985  Active  Bucktown Chicken & Fish   \n",
       "7   CV7 All Alc. Restrict.   LB-375393  Active              Totto Ramen   \n",
       "10  CV7 All Alc. Restrict.   LB-400468  Active                   Mariel   \n",
       "\n",
       "       srcLat     srcLon  Neighborhood_ID          Name  \n",
       "1   42.364540 -71.021817                8   East Boston  \n",
       "2   42.292934 -71.052100                6    Dorchester  \n",
       "6   42.332230 -71.099860               13  Mission Hill  \n",
       "7   42.325376 -71.062824                6    Dorchester  \n",
       "10  42.357508 -71.055848                7      Downtown  "
      ]
     },
     "execution_count": 475,
     "metadata": {},
     "output_type": "execute_result"
    }
   ],
   "source": [
    "alc.head()"
   ]
  },
  {
   "cell_type": "code",
   "execution_count": 476,
   "metadata": {},
   "outputs": [
    {
     "data": {
      "text/html": [
       "<div>\n",
       "<style scoped>\n",
       "    .dataframe tbody tr th:only-of-type {\n",
       "        vertical-align: middle;\n",
       "    }\n",
       "\n",
       "    .dataframe tbody tr th {\n",
       "        vertical-align: top;\n",
       "    }\n",
       "\n",
       "    .dataframe thead th {\n",
       "        text-align: right;\n",
       "    }\n",
       "</style>\n",
       "<table border=\"1\" class=\"dataframe\">\n",
       "  <thead>\n",
       "    <tr style=\"text-align: right;\">\n",
       "      <th></th>\n",
       "      <th>Name_left</th>\n",
       "      <th>Latitude</th>\n",
       "      <th>Longitude</th>\n",
       "      <th>NumStudent</th>\n",
       "      <th>Neighborhood_ID</th>\n",
       "      <th>Name_right</th>\n",
       "    </tr>\n",
       "  </thead>\n",
       "  <tbody>\n",
       "    <tr>\n",
       "      <th>0</th>\n",
       "      <td>Massachusetts General Hospital Dietetic Intern...</td>\n",
       "      <td>42.362591</td>\n",
       "      <td>-71.070141</td>\n",
       "      <td>10</td>\n",
       "      <td>31</td>\n",
       "      <td>West End</td>\n",
       "    </tr>\n",
       "    <tr>\n",
       "      <th>1</th>\n",
       "      <td>Suffolk University</td>\n",
       "      <td>42.358905</td>\n",
       "      <td>-71.061948</td>\n",
       "      <td>9148</td>\n",
       "      <td>7</td>\n",
       "      <td>Downtown</td>\n",
       "    </tr>\n",
       "    <tr>\n",
       "      <th>2</th>\n",
       "      <td>Benjamin Franklin Institute of Technology</td>\n",
       "      <td>42.346103</td>\n",
       "      <td>-71.070186</td>\n",
       "      <td>594</td>\n",
       "      <td>32</td>\n",
       "      <td>South End</td>\n",
       "    </tr>\n",
       "    <tr>\n",
       "      <th>3</th>\n",
       "      <td>Bunker Hill Community College</td>\n",
       "      <td>42.375117</td>\n",
       "      <td>-71.069572</td>\n",
       "      <td>11009</td>\n",
       "      <td>4</td>\n",
       "      <td>Charlestown</td>\n",
       "    </tr>\n",
       "    <tr>\n",
       "      <th>4</th>\n",
       "      <td>MGH Institute of Health Professions</td>\n",
       "      <td>42.374917</td>\n",
       "      <td>-71.053972</td>\n",
       "      <td>900</td>\n",
       "      <td>4</td>\n",
       "      <td>Charlestown</td>\n",
       "    </tr>\n",
       "  </tbody>\n",
       "</table>\n",
       "</div>"
      ],
      "text/plain": [
       "                                           Name_left   Latitude  Longitude  \\\n",
       "0  Massachusetts General Hospital Dietetic Intern...  42.362591 -71.070141   \n",
       "1                                 Suffolk University  42.358905 -71.061948   \n",
       "2          Benjamin Franklin Institute of Technology  42.346103 -71.070186   \n",
       "3                      Bunker Hill Community College  42.375117 -71.069572   \n",
       "4                MGH Institute of Health Professions  42.374917 -71.053972   \n",
       "\n",
       "   NumStudent  Neighborhood_ID   Name_right  \n",
       "0          10               31     West End  \n",
       "1        9148                7     Downtown  \n",
       "2         594               32    South End  \n",
       "3       11009                4  Charlestown  \n",
       "4         900                4  Charlestown  "
      ]
     },
     "execution_count": 476,
     "metadata": {},
     "output_type": "execute_result"
    }
   ],
   "source": [
    "colleges.head()"
   ]
  },
  {
   "cell_type": "markdown",
   "metadata": {},
   "source": [
    "### Aggregating\n",
    "\n",
    "Now, we group the datasets by neighborhood with a count method."
   ]
  },
  {
   "cell_type": "code",
   "execution_count": 477,
   "metadata": {},
   "outputs": [
    {
     "data": {
      "text/plain": [
       "Neighborhood_ID\n",
       "2     95\n",
       "4     18\n",
       "6     69\n",
       "7    155\n",
       "8     33\n",
       "Name: bar_count, dtype: int64"
      ]
     },
     "execution_count": 477,
     "metadata": {},
     "output_type": "execute_result"
    }
   ],
   "source": [
    "bar_count = alc.groupby(by=['Neighborhood_ID']).count()['license_num']\n",
    "bar_count = bar_count.rename('bar_count')\n",
    "bar_count[:5]"
   ]
  },
  {
   "cell_type": "markdown",
   "metadata": {},
   "source": [
    "Note: crime_count is not counting offenses from outside of Boston"
   ]
  },
  {
   "cell_type": "code",
   "execution_count": 478,
   "metadata": {},
   "outputs": [
    {
     "data": {
      "text/plain": [
       "Neighborhood_ID\n",
       "2     65\n",
       "4     13\n",
       "6    224\n",
       "7     71\n",
       "8     69\n",
       "Name: crime_count, dtype: int64"
      ]
     },
     "execution_count": 478,
     "metadata": {},
     "output_type": "execute_result"
    }
   ],
   "source": [
    "crime_count = crime.groupby(by=['Neighborhood_ID']).count()['OFFENSE_CODE']\n",
    "crime_count = crime_count.rename('crime_count')\n",
    "crime_count[:5]"
   ]
  },
  {
   "cell_type": "markdown",
   "metadata": {},
   "source": [
    "In addition to counting all crimes, we also will count each individual type of crime in each neighborhood.\n",
    "- 2201 = Liquor Involving Minors\n",
    "- 2101 = Operating Under the Influence of Alcohol\n",
    "- 2646 = Drinking in Public"
   ]
  },
  {
   "cell_type": "code",
   "execution_count": 479,
   "metadata": {},
   "outputs": [],
   "source": [
    "crime_count_minor = crime[crime['OFFENSE_CODE'] == 2201].groupby(by=['Neighborhood_ID']).count()['OFFENSE_CODE']\n",
    "crime_count_minor = crime_count_minor.rename('minor_count')\n",
    "\n",
    "crime_count_dui   = crime[crime['OFFENSE_CODE'] == 2101].groupby(by=['Neighborhood_ID']).count()['OFFENSE_CODE']\n",
    "crime_count_dui   = crime_count_dui.rename('dui_count')\n",
    "\n",
    "crime_count_dip   = crime[crime['OFFENSE_CODE'] == 2646].groupby(by=['Neighborhood_ID']).count()['OFFENSE_CODE']\n",
    "crime_count_dip   = crime_count_dip.rename('public_drink_count')"
   ]
  },
  {
   "cell_type": "code",
   "execution_count": 497,
   "metadata": {},
   "outputs": [
    {
     "data": {
      "text/plain": [
       "Neighborhood_ID\n",
       "2     6\n",
       "4     3\n",
       "6     2\n",
       "7     6\n",
       "10    1\n",
       "Name: college_count, dtype: int64"
      ]
     },
     "execution_count": 497,
     "metadata": {},
     "output_type": "execute_result"
    }
   ],
   "source": [
    "college_count = colleges.groupby(by=['Neighborhood_ID']).count()['Name_left']\n",
    "college_count = college_count.rename('college_count')\n",
    "college_count[:5]"
   ]
  },
  {
   "cell_type": "markdown",
   "metadata": {},
   "source": [
    "Student count counts the total student population by summing the number of students at each college within a neighbhorhood."
   ]
  },
  {
   "cell_type": "code",
   "execution_count": 498,
   "metadata": {},
   "outputs": [
    {
     "data": {
      "text/plain": [
       "Neighborhood_ID\n",
       "2      4400\n",
       "4     12528\n",
       "6     15581\n",
       "7     16387\n",
       "10      147\n",
       "Name: student_count, dtype: int64"
      ]
     },
     "execution_count": 498,
     "metadata": {},
     "output_type": "execute_result"
    }
   ],
   "source": [
    "student_count = colleges.groupby(by=['Neighborhood_ID']).sum()['NumStudent']\n",
    "student_count = student_count.rename('student_count')\n",
    "student_count[:5]"
   ]
  },
  {
   "cell_type": "markdown",
   "metadata": {},
   "source": [
    "... and merge them into one dataframe."
   ]
  },
  {
   "cell_type": "code",
   "execution_count": 499,
   "metadata": {},
   "outputs": [],
   "source": [
    "crime_col = {'crime':crime_count}\n",
    "crime_df = pd.DataFrame(crime_col)\n",
    "\n",
    "crime_col2 = {'minor_crimes':crime_count_minor}\n",
    "crime_df2 = pd.DataFrame(crime_col2)\n",
    "\n",
    "crime_col3 = {'dui_crimes':crime_count_dui}\n",
    "crime_df3 = pd.DataFrame(crime_col3)\n",
    "\n",
    "crime_col4 = {'drinking_public_crimes':crime_count_dip}\n",
    "crime_df4 = pd.DataFrame(crime_col4)\n",
    "\n",
    "bar_col = {'bars':bar_count}\n",
    "bars_df = pd.DataFrame(bar_col)\n",
    "\n",
    "college_col = {'colleges':college_count}\n",
    "college_df = pd.DataFrame(college_col)\n",
    "\n",
    "student_col = {'students':student_count}\n",
    "student_df = pd.DataFrame(student_col)"
   ]
  },
  {
   "cell_type": "markdown",
   "metadata": {},
   "source": [
    "Our combined_df contains the outer join of bars, colleges, total crime, and each seperate type of crime. Since many neighborhoods do not have colleges,\n",
    "by inner joining with the colleges our maps will show many neighborhoods as missing. Therefore we will perform an outer join to ensure neighborhoods are not removed, as we want our maps to represent all of Boston. We can assume a missing or NaN value after the join means a count of 0."
   ]
  },
  {
   "cell_type": "code",
   "execution_count": 500,
   "metadata": {
    "scrolled": false
   },
   "outputs": [
    {
     "data": {
      "text/html": [
       "<div>\n",
       "<style scoped>\n",
       "    .dataframe tbody tr th:only-of-type {\n",
       "        vertical-align: middle;\n",
       "    }\n",
       "\n",
       "    .dataframe tbody tr th {\n",
       "        vertical-align: top;\n",
       "    }\n",
       "\n",
       "    .dataframe thead th {\n",
       "        text-align: right;\n",
       "    }\n",
       "</style>\n",
       "<table border=\"1\" class=\"dataframe\">\n",
       "  <thead>\n",
       "    <tr style=\"text-align: right;\">\n",
       "      <th></th>\n",
       "      <th>crime</th>\n",
       "      <th>bars</th>\n",
       "      <th>colleges</th>\n",
       "      <th>students</th>\n",
       "      <th>minor_crimes</th>\n",
       "      <th>dui_crimes</th>\n",
       "      <th>drinking_public_crimes</th>\n",
       "    </tr>\n",
       "    <tr>\n",
       "      <th>Neighborhood_ID</th>\n",
       "      <th></th>\n",
       "      <th></th>\n",
       "      <th></th>\n",
       "      <th></th>\n",
       "      <th></th>\n",
       "      <th></th>\n",
       "      <th></th>\n",
       "    </tr>\n",
       "  </thead>\n",
       "  <tbody>\n",
       "    <tr>\n",
       "      <th>2</th>\n",
       "      <td>65</td>\n",
       "      <td>95</td>\n",
       "      <td>6.0</td>\n",
       "      <td>4400.0</td>\n",
       "      <td>0.0</td>\n",
       "      <td>21</td>\n",
       "      <td>44.0</td>\n",
       "    </tr>\n",
       "    <tr>\n",
       "      <th>4</th>\n",
       "      <td>13</td>\n",
       "      <td>18</td>\n",
       "      <td>3.0</td>\n",
       "      <td>12528.0</td>\n",
       "      <td>0.0</td>\n",
       "      <td>13</td>\n",
       "      <td>0.0</td>\n",
       "    </tr>\n",
       "    <tr>\n",
       "      <th>6</th>\n",
       "      <td>224</td>\n",
       "      <td>69</td>\n",
       "      <td>2.0</td>\n",
       "      <td>15581.0</td>\n",
       "      <td>0.0</td>\n",
       "      <td>145</td>\n",
       "      <td>79.0</td>\n",
       "    </tr>\n",
       "    <tr>\n",
       "      <th>7</th>\n",
       "      <td>71</td>\n",
       "      <td>155</td>\n",
       "      <td>6.0</td>\n",
       "      <td>16387.0</td>\n",
       "      <td>0.0</td>\n",
       "      <td>19</td>\n",
       "      <td>52.0</td>\n",
       "    </tr>\n",
       "    <tr>\n",
       "      <th>8</th>\n",
       "      <td>69</td>\n",
       "      <td>33</td>\n",
       "      <td>0.0</td>\n",
       "      <td>0.0</td>\n",
       "      <td>0.0</td>\n",
       "      <td>57</td>\n",
       "      <td>12.0</td>\n",
       "    </tr>\n",
       "    <tr>\n",
       "      <th>10</th>\n",
       "      <td>25</td>\n",
       "      <td>10</td>\n",
       "      <td>1.0</td>\n",
       "      <td>147.0</td>\n",
       "      <td>0.0</td>\n",
       "      <td>23</td>\n",
       "      <td>2.0</td>\n",
       "    </tr>\n",
       "    <tr>\n",
       "      <th>11</th>\n",
       "      <td>42</td>\n",
       "      <td>19</td>\n",
       "      <td>0.0</td>\n",
       "      <td>0.0</td>\n",
       "      <td>0.0</td>\n",
       "      <td>25</td>\n",
       "      <td>17.0</td>\n",
       "    </tr>\n",
       "    <tr>\n",
       "      <th>12</th>\n",
       "      <td>91</td>\n",
       "      <td>8</td>\n",
       "      <td>0.0</td>\n",
       "      <td>0.0</td>\n",
       "      <td>0.0</td>\n",
       "      <td>29</td>\n",
       "      <td>62.0</td>\n",
       "    </tr>\n",
       "    <tr>\n",
       "      <th>13</th>\n",
       "      <td>55</td>\n",
       "      <td>8</td>\n",
       "      <td>2.0</td>\n",
       "      <td>4292.0</td>\n",
       "      <td>0.0</td>\n",
       "      <td>7</td>\n",
       "      <td>48.0</td>\n",
       "    </tr>\n",
       "    <tr>\n",
       "      <th>14</th>\n",
       "      <td>9</td>\n",
       "      <td>33</td>\n",
       "      <td>1.0</td>\n",
       "      <td>144.0</td>\n",
       "      <td>0.0</td>\n",
       "      <td>3</td>\n",
       "      <td>6.0</td>\n",
       "    </tr>\n",
       "    <tr>\n",
       "      <th>15</th>\n",
       "      <td>19</td>\n",
       "      <td>15</td>\n",
       "      <td>0.0</td>\n",
       "      <td>0.0</td>\n",
       "      <td>0.0</td>\n",
       "      <td>17</td>\n",
       "      <td>2.0</td>\n",
       "    </tr>\n",
       "    <tr>\n",
       "      <th>16</th>\n",
       "      <td>536</td>\n",
       "      <td>20</td>\n",
       "      <td>1.0</td>\n",
       "      <td>2749.0</td>\n",
       "      <td>0.0</td>\n",
       "      <td>59</td>\n",
       "      <td>477.0</td>\n",
       "    </tr>\n",
       "    <tr>\n",
       "      <th>17</th>\n",
       "      <td>30</td>\n",
       "      <td>44</td>\n",
       "      <td>0.0</td>\n",
       "      <td>0.0</td>\n",
       "      <td>0.0</td>\n",
       "      <td>18</td>\n",
       "      <td>12.0</td>\n",
       "    </tr>\n",
       "    <tr>\n",
       "      <th>19</th>\n",
       "      <td>20</td>\n",
       "      <td>17</td>\n",
       "      <td>1.0</td>\n",
       "      <td>448.0</td>\n",
       "      <td>0.0</td>\n",
       "      <td>18</td>\n",
       "      <td>2.0</td>\n",
       "    </tr>\n",
       "    <tr>\n",
       "      <th>24</th>\n",
       "      <td>26</td>\n",
       "      <td>25</td>\n",
       "      <td>3.0</td>\n",
       "      <td>0.0</td>\n",
       "      <td>0.0</td>\n",
       "      <td>21</td>\n",
       "      <td>5.0</td>\n",
       "    </tr>\n",
       "    <tr>\n",
       "      <th>25</th>\n",
       "      <td>37</td>\n",
       "      <td>23</td>\n",
       "      <td>2.0</td>\n",
       "      <td>845.0</td>\n",
       "      <td>0.0</td>\n",
       "      <td>36</td>\n",
       "      <td>1.0</td>\n",
       "    </tr>\n",
       "    <tr>\n",
       "      <th>26</th>\n",
       "      <td>64</td>\n",
       "      <td>5</td>\n",
       "      <td>1.0</td>\n",
       "      <td>0.0</td>\n",
       "      <td>0.0</td>\n",
       "      <td>3</td>\n",
       "      <td>61.0</td>\n",
       "    </tr>\n",
       "    <tr>\n",
       "      <th>27</th>\n",
       "      <td>3</td>\n",
       "      <td>6</td>\n",
       "      <td>0.0</td>\n",
       "      <td>0.0</td>\n",
       "      <td>0.0</td>\n",
       "      <td>1</td>\n",
       "      <td>2.0</td>\n",
       "    </tr>\n",
       "    <tr>\n",
       "      <th>28</th>\n",
       "      <td>2</td>\n",
       "      <td>1</td>\n",
       "      <td>0.0</td>\n",
       "      <td>0.0</td>\n",
       "      <td>0.0</td>\n",
       "      <td>2</td>\n",
       "      <td>0.0</td>\n",
       "    </tr>\n",
       "    <tr>\n",
       "      <th>29</th>\n",
       "      <td>3</td>\n",
       "      <td>63</td>\n",
       "      <td>0.0</td>\n",
       "      <td>0.0</td>\n",
       "      <td>0.0</td>\n",
       "      <td>2</td>\n",
       "      <td>1.0</td>\n",
       "    </tr>\n",
       "    <tr>\n",
       "      <th>30</th>\n",
       "      <td>10</td>\n",
       "      <td>19</td>\n",
       "      <td>0.0</td>\n",
       "      <td>0.0</td>\n",
       "      <td>0.0</td>\n",
       "      <td>2</td>\n",
       "      <td>8.0</td>\n",
       "    </tr>\n",
       "    <tr>\n",
       "      <th>31</th>\n",
       "      <td>10</td>\n",
       "      <td>36</td>\n",
       "      <td>1.0</td>\n",
       "      <td>10.0</td>\n",
       "      <td>0.0</td>\n",
       "      <td>2</td>\n",
       "      <td>8.0</td>\n",
       "    </tr>\n",
       "    <tr>\n",
       "      <th>32</th>\n",
       "      <td>29</td>\n",
       "      <td>48</td>\n",
       "      <td>3.0</td>\n",
       "      <td>594.0</td>\n",
       "      <td>0.0</td>\n",
       "      <td>18</td>\n",
       "      <td>11.0</td>\n",
       "    </tr>\n",
       "    <tr>\n",
       "      <th>33</th>\n",
       "      <td>4</td>\n",
       "      <td>4</td>\n",
       "      <td>0.0</td>\n",
       "      <td>0.0</td>\n",
       "      <td>0.0</td>\n",
       "      <td>3</td>\n",
       "      <td>1.0</td>\n",
       "    </tr>\n",
       "    <tr>\n",
       "      <th>34</th>\n",
       "      <td>17</td>\n",
       "      <td>47</td>\n",
       "      <td>15.0</td>\n",
       "      <td>66231.0</td>\n",
       "      <td>0.0</td>\n",
       "      <td>11</td>\n",
       "      <td>6.0</td>\n",
       "    </tr>\n",
       "  </tbody>\n",
       "</table>\n",
       "</div>"
      ],
      "text/plain": [
       "                 crime  bars  colleges  students  minor_crimes  dui_crimes  \\\n",
       "Neighborhood_ID                                                              \n",
       "2                   65    95       6.0    4400.0           0.0          21   \n",
       "4                   13    18       3.0   12528.0           0.0          13   \n",
       "6                  224    69       2.0   15581.0           0.0         145   \n",
       "7                   71   155       6.0   16387.0           0.0          19   \n",
       "8                   69    33       0.0       0.0           0.0          57   \n",
       "10                  25    10       1.0     147.0           0.0          23   \n",
       "11                  42    19       0.0       0.0           0.0          25   \n",
       "12                  91     8       0.0       0.0           0.0          29   \n",
       "13                  55     8       2.0    4292.0           0.0           7   \n",
       "14                   9    33       1.0     144.0           0.0           3   \n",
       "15                  19    15       0.0       0.0           0.0          17   \n",
       "16                 536    20       1.0    2749.0           0.0          59   \n",
       "17                  30    44       0.0       0.0           0.0          18   \n",
       "19                  20    17       1.0     448.0           0.0          18   \n",
       "24                  26    25       3.0       0.0           0.0          21   \n",
       "25                  37    23       2.0     845.0           0.0          36   \n",
       "26                  64     5       1.0       0.0           0.0           3   \n",
       "27                   3     6       0.0       0.0           0.0           1   \n",
       "28                   2     1       0.0       0.0           0.0           2   \n",
       "29                   3    63       0.0       0.0           0.0           2   \n",
       "30                  10    19       0.0       0.0           0.0           2   \n",
       "31                  10    36       1.0      10.0           0.0           2   \n",
       "32                  29    48       3.0     594.0           0.0          18   \n",
       "33                   4     4       0.0       0.0           0.0           3   \n",
       "34                  17    47      15.0   66231.0           0.0          11   \n",
       "\n",
       "                 drinking_public_crimes  \n",
       "Neighborhood_ID                          \n",
       "2                                  44.0  \n",
       "4                                   0.0  \n",
       "6                                  79.0  \n",
       "7                                  52.0  \n",
       "8                                  12.0  \n",
       "10                                  2.0  \n",
       "11                                 17.0  \n",
       "12                                 62.0  \n",
       "13                                 48.0  \n",
       "14                                  6.0  \n",
       "15                                  2.0  \n",
       "16                                477.0  \n",
       "17                                 12.0  \n",
       "19                                  2.0  \n",
       "24                                  5.0  \n",
       "25                                  1.0  \n",
       "26                                 61.0  \n",
       "27                                  2.0  \n",
       "28                                  0.0  \n",
       "29                                  1.0  \n",
       "30                                  8.0  \n",
       "31                                  8.0  \n",
       "32                                 11.0  \n",
       "33                                  1.0  \n",
       "34                                  6.0  "
      ]
     },
     "execution_count": 500,
     "metadata": {},
     "output_type": "execute_result"
    }
   ],
   "source": [
    "combined_df = crime_df.join(bars_df, how='outer', sort=False)\n",
    "combined_df = combined_df.join(college_df, how='outer', sort=False)\n",
    "combined_df = combined_df.join(student_df, how='outer', sort=False)\n",
    "combined_df = combined_df.join(crime_df2, how='outer', sort=False)\n",
    "combined_df = combined_df.join(crime_df3, how='outer', sort=False)\n",
    "combined_df = combined_df.join(crime_df4, how='outer', sort=False)\n",
    "combined_df = combined_df.fillna(0)\n",
    "combined_df"
   ]
  },
  {
   "cell_type": "markdown",
   "metadata": {},
   "source": [
    "**A note on liquor involving minors (minor_crimes col)**\n",
    "\n",
    "As it can be seen from the dataframe above, when we count specifically crimes with the code 2201, which is noted in boston criminal offense code documentation as 'Liquor involving minors', we see there are no records for this crime. When we first imported and analyzed the data this was not the case. There were many crimes falling under this category for various neighborhoods. Until recently the datasets have been updated by the city. They note the data sets have been updated with \"the exclusion of data that falls under MGL ch.41 s.98f\". \n",
    "\n",
    "Looking at this section 98f from malegislature.gov https://malegislature.gov/laws/generallaws/parti/titlevii/chapter41/section98f it can be seen that\n",
    "\n",
    "> the following entries shall be kept in a separate log and shall not be a public record.\n",
    "\n",
    "(iv) any entry concerning the arrest of a person who has not yet reached 18 years of age. It could be the case that these specific crime code has been removed from the data since it is reporting on incidents of underage people and could not comply with the law above. Since we don't have access the data we can't include it our report and must focus in our visualizations and analysis on specifically dui and drinking in public."
   ]
  },
  {
   "cell_type": "markdown",
   "metadata": {},
   "source": [
    "<a id='4'></a>\n",
    "## 4. Visualizations\n",
    "\n",
    "From here, we just need to translate this data into maps for clear visualization.\n",
    "\n",
    "We have a map each for the crimes and bars datasets, and on both maps we overlay the locations of colleges in Boston as red dots."
   ]
  },
  {
   "cell_type": "code",
   "execution_count": 501,
   "metadata": {},
   "outputs": [],
   "source": [
    "college_geo = gpd.points_from_xy(colleges.Longitude, colleges.Latitude)\n",
    "c_geo_df = gpd.GeoDataFrame(geometry = college_geo)"
   ]
  },
  {
   "cell_type": "code",
   "execution_count": 518,
   "metadata": {},
   "outputs": [
    {
     "data": {
      "image/png": "[encoded data removed]",
      "text/plain": [
       "<Figure size 864x432 with 2 Axes>"
      ]
     },
     "metadata": {
      "needs_background": "light"
     },
     "output_type": "display_data"
    }
   ],
   "source": [
    "fig,ax = plt.subplots(figsize = (12,6))\n",
    "crime_map = pd.merge(nb, combined_df, on=\"Neighborhood_ID\")\n",
    "crime_map.plot(ax = ax, column = 'crime', legend=True)\n",
    "g = c_geo_df.plot(ax=ax, markersize = 40, color = 'red', alpha=0.5)\n",
    "plt.title('Boston Alcohol-Related Crime Count and Colleges by Neighborhood', fontsize = 14)\n",
    "plt.show()"
   ]
  },
  {
   "cell_type": "code",
   "execution_count": 519,
   "metadata": {},
   "outputs": [
    {
     "data": {
      "image/png": "[encoded data removed]",
      "text/plain": [
       "<Figure size 864x432 with 2 Axes>"
      ]
     },
     "metadata": {
      "needs_background": "light"
     },
     "output_type": "display_data"
    }
   ],
   "source": [
    "fig,ax = plt.subplots(figsize = (12,6))\n",
    "bar_map = pd.merge(nb, combined_df, on=\"Neighborhood_ID\")\n",
    "bar_map.plot(ax=ax, column = 'bars', legend=True, figsize=(20,16))\n",
    "g = c_geo_df.plot(ax=ax, markersize = 40, color = 'red', alpha=0.5)\n",
    "plt.title('Boston Bar Count and Colleges by Neighborhood', fontsize = 14)\n",
    "plt.show()"
   ]
  },
  {
   "cell_type": "code",
   "execution_count": 520,
   "metadata": {},
   "outputs": [
    {
     "data": {
      "image/png": "[encoded data removed]",
      "text/plain": [
       "<Figure size 864x432 with 2 Axes>"
      ]
     },
     "metadata": {
      "needs_background": "light"
     },
     "output_type": "display_data"
    }
   ],
   "source": [
    "fig,ax = plt.subplots(figsize = (12,6))\n",
    "bar_map = pd.merge(nb, combined_df, on=\"Neighborhood_ID\")\n",
    "bar_map.plot(ax=ax, column = 'students', legend=True, figsize=(20,16))\n",
    "g = c_geo_df.plot(ax=ax, markersize = 40, color = 'red', alpha=0.5)\n",
    "plt.title('Boston Student Count and Colleges by Neighborhood', fontsize = 14)\n",
    "plt.show()"
   ]
  },
  {
   "cell_type": "markdown",
   "metadata": {},
   "source": [
    "<a id='5'></a>\n",
    "## 5. Analysis"
   ]
  },
  {
   "cell_type": "code",
   "execution_count": 529,
   "metadata": {
    "scrolled": true
   },
   "outputs": [
    {
     "data": {
      "text/plain": [
       "<Figure size 432x288 with 0 Axes>"
      ]
     },
     "metadata": {},
     "output_type": "display_data"
    },
    {
     "data": {
      "image/png": "[encoded data removed]",
      "text/plain": [
       "<Figure size 1080x360 with 1 Axes>"
      ]
     },
     "metadata": {
      "needs_background": "light"
     },
     "output_type": "display_data"
    }
   ],
   "source": [
    "fig = plt.figure()\n",
    "ax = combined_df[['crime', 'bars', 'colleges']].plot.bar(legend=True, figsize=(15,5), fontsize=10)\n",
    "plt.title('Boston Crime counts 2015-2018 by Neighborhood', fontsize = 15)\n",
    "plt.legend([\"Count of Alcohol-Related Crimes\", \"Count of Bars\", 'Colleges'], prop={\"size\":8})\n",
    "plt.xlabel('Neighborhood ID', fontsize=10)\n",
    "plt.show()"
   ]
  },
  {
   "cell_type": "markdown",
   "metadata": {},
   "source": [
    "It's clear from the bar chart above that neighborhood 16 (Roxbury) has a much higher alcohol crime rate than any other of the neighborhoods within Boston. However, Roxbury has relatively few bars. This is really showing that there's many more factors in play contributing to crime than the presense of an establishment selling alcohol. Using the count of bars and colleges alone it is difficult to find any relationship. "
   ]
  },
  {
   "cell_type": "code",
   "execution_count": 532,
   "metadata": {},
   "outputs": [
    {
     "data": {
      "text/html": [
       "<div>\n",
       "<style scoped>\n",
       "    .dataframe tbody tr th:only-of-type {\n",
       "        vertical-align: middle;\n",
       "    }\n",
       "\n",
       "    .dataframe tbody tr th {\n",
       "        vertical-align: top;\n",
       "    }\n",
       "\n",
       "    .dataframe thead th {\n",
       "        text-align: right;\n",
       "    }\n",
       "</style>\n",
       "<table border=\"1\" class=\"dataframe\">\n",
       "  <thead>\n",
       "    <tr style=\"text-align: right;\">\n",
       "      <th></th>\n",
       "      <th>crime</th>\n",
       "      <th>bars</th>\n",
       "      <th>colleges</th>\n",
       "    </tr>\n",
       "  </thead>\n",
       "  <tbody>\n",
       "    <tr>\n",
       "      <th>crime</th>\n",
       "      <td>1.000000</td>\n",
       "      <td>0.074499</td>\n",
       "      <td>-0.030558</td>\n",
       "    </tr>\n",
       "    <tr>\n",
       "      <th>bars</th>\n",
       "      <td>0.074499</td>\n",
       "      <td>1.000000</td>\n",
       "      <td>0.460951</td>\n",
       "    </tr>\n",
       "    <tr>\n",
       "      <th>colleges</th>\n",
       "      <td>-0.030558</td>\n",
       "      <td>0.460951</td>\n",
       "      <td>1.000000</td>\n",
       "    </tr>\n",
       "  </tbody>\n",
       "</table>\n",
       "</div>"
      ],
      "text/plain": [
       "             crime      bars  colleges\n",
       "crime     1.000000  0.074499 -0.030558\n",
       "bars      0.074499  1.000000  0.460951\n",
       "colleges -0.030558  0.460951  1.000000"
      ]
     },
     "execution_count": 532,
     "metadata": {},
     "output_type": "execute_result"
    }
   ],
   "source": [
    "correlation = combined_df[['crime', 'bars','colleges']].corr()\n",
    "correlation"
   ]
  },
  {
   "cell_type": "markdown",
   "metadata": {},
   "source": [
    "Looking at the correlation of all crime counts and all bars counts shows there is no correlation as the coefficent is near 0. There is a moderate relationship between the number of colleges and the number of bars, which makes sense as most of the colleges in Boston are in more densely populated areas with more restaurants and stores. Of any of our visualizations this chart is the most telling. It's clear from the values that the correlation we were looking for, or expected at the start, is not present in the data."
   ]
  },
  {
   "cell_type": "markdown",
   "metadata": {},
   "source": [
    "<a id='6'></a>\n",
    "## 6. Future Work\n",
    "\n",
    "To research our question we have made the most out of the data and reporting that was available. If the city of Boston had increases the priority of reporting and labeling certain crimes such as those involving minors we suspect a stronger correlation could be found by looking specifically at crimes involving minors around college areas. Since this reporting code seems to not be used it's very challenging to truly know the answer to our research question. If more data becomes available in future years this is a project that could be built onto. However, we have given our best at the analysis with the data that is given. The same can be said for the data on liquor licenses. If we could know more specifically which types of establishments might contribute the most to certain crimes that could be helpful for the city but would require more data.\n",
    "\n",
    "One future aspect that could be improved for future works is working more with the descriptions of the business. Through text analysis we could determine if the description of an establishment can be used to learn more about what type of business it is. This would require some more advanced techiques, since this description does not followed a specific format. Another feature that could be added, specifically for driving under the influence, is an average commute time or average number of cars per household. Some metric to account for areas outside the city having a higher number of vehicles. This might require finding and importing another data set."
   ]
  },
  {
   "cell_type": "code",
   "execution_count": null,
   "metadata": {},
   "outputs": [],
   "source": []
  }
 ],
 "metadata": {
  "kernelspec": {
   "display_name": "Python 3",
   "language": "python",
   "name": "python3"
  },
  "language_info": {
   "codemirror_mode": {
    "name": "ipython",
    "version": 3
   },
   "file_extension": ".py",
   "mimetype": "text/x-python",
   "name": "python",
   "nbconvert_exporter": "python",
   "pygments_lexer": "ipython3",
   "version": "3.8.2"
  }
 },
 "nbformat": 4,
 "nbformat_minor": 4
}
